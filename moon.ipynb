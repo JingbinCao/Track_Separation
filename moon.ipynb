{
 "cells": [
  {
   "cell_type": "markdown",
   "id": "0d4ec590-ab5b-4150-98d0-01474ce33a33",
   "metadata": {},
   "source": [
    "# Separate All Parts (Demucs)"
   ]
  },
  {
   "cell_type": "code",
   "execution_count": 13,
   "id": "0d5488b1-77fc-4585-ad31-6a918980daf9",
   "metadata": {},
   "outputs": [],
   "source": [
    "# Add the Demucs directory to the Python path\n",
    "demucs_dir = os.path.abspath('../../packages/demucs')\n",
    "sys.path.append(demucs_dir)"
   ]
  },
  {
   "cell_type": "code",
   "execution_count": 12,
   "id": "b51c444b-c48f-46a1-a7d0-cff1a640e282",
   "metadata": {},
   "outputs": [
    {
     "name": "stdout",
     "output_type": "stream",
     "text": [
      "Selected model is a bag of 1 models. You will see that many progress bars per track.\n",
      "Separated tracks will be stored in /Users/jingbinc/GitHub/personal/track_separation/separated/htdemucs_6s\n",
      "Separating track data/moon_track.mp3\n"
     ]
    },
    {
     "name": "stderr",
     "output_type": "stream",
     "text": [
      "100%|████████████████████████████████████████████████████████████████████████| 292.5/292.5 [02:22<00:00,  2.05seconds/s]\n"
     ]
    }
   ],
   "source": [
    "import sys\n",
    "import os\n",
    "\n",
    "from demucs.separate import main as demucs_separate\n",
    "\n",
    "# Path to your audio file\n",
    "audio_file_path = './data/moon_track.mp3'\n",
    "\n",
    "# Use the Demucs model for separation\n",
    "# This will create separated tracks for drums, bass, other instruments, and vocals\n",
    "demucs_separate(['-n', 'mdx_extra', audio_file_path])\n",
    "\n",
    "# Use the `htdemucs_6s` model for separation, which includes piano and guitar\n",
    "demucs_separate(['-n', 'htdemucs_6s', audio_file_path])"
   ]
  },
  {
   "cell_type": "markdown",
   "id": "26a2f4e5-0d65-411f-a941-bac875630574",
   "metadata": {},
   "source": [
    "# Audio Manipulation"
   ]
  },
  {
   "cell_type": "markdown",
   "id": "2c74abc9-8429-4eb7-8280-3c92aba7001c",
   "metadata": {},
   "source": [
    "### Separate possible files"
   ]
  },
  {
   "cell_type": "code",
   "execution_count": 20,
   "id": "fa7ec5ac-1382-4dba-944c-88a9ba0ffb97",
   "metadata": {},
   "outputs": [],
   "source": [
    "import os\n",
    "import torch\n",
    "import torchaudio\n",
    "\n",
    "def audio_manipulation(original_file, subtract_files, output_file):\n",
    "    \"\"\"\n",
    "    Subtract audio content of 'subtract_files' from 'original_file' and save the result.\n",
    "    \n",
    "    Parameters:\n",
    "    original_file (str): The path to the original audio file.\n",
    "    subtract_files (list): List of paths to audio files that will be subtracted from the original.\n",
    "    output_file (str): The path where the output file will be saved.\n",
    "    \"\"\"\n",
    "    # Load the original audio\n",
    "    original_audio, orig_sr = torchaudio.load(original_file)\n",
    "    \n",
    "    # Subtract files\n",
    "    for file in subtract_files:\n",
    "        # Load the subtracting file\n",
    "        sub_audio, sub_sr = torchaudio.load(file)\n",
    "        \n",
    "        # Resample if necessary\n",
    "        if sub_sr != orig_sr:\n",
    "            resampler = torchaudio.transforms.Resample(sub_sr, orig_sr)\n",
    "            sub_audio = resampler(sub_audio)\n",
    "\n",
    "        # Trim/Pad the audio to match lengths\n",
    "        min_length = min(original_audio.shape[1], sub_audio.shape[1])\n",
    "        original_audio = original_audio[:, :min_length]\n",
    "        sub_audio = sub_audio[:, :min_length]\n",
    "\n",
    "        # Subtract the audio content\n",
    "        original_audio -= sub_audio\n",
    "\n",
    "    # Save the resulting audio\n",
    "    torchaudio.save(output_file, original_audio, orig_sr)\n",
    "\n",
    "    print(f\"Processed audio saved as {output_file}\")"
   ]
  },
  {
   "cell_type": "code",
   "execution_count": 21,
   "id": "9f9b2a20-f9b3-4b5b-8ab4-683718ba15f1",
   "metadata": {},
   "outputs": [
    {
     "name": "stdout",
     "output_type": "stream",
     "text": [
      "Processed audio saved as ./data/moon_track_minus_components_v1.wav\n"
     ]
    }
   ],
   "source": [
    "# Example usage: Separate vocal, piano, and other\n",
    "original_file = './data/moon_track.mp3'\n",
    "subtract_files = ['./separated/htdemucs_6s/moon_track/other.wav', \n",
    "                  './separated/htdemucs_6s/moon_track/vocals.wav', \n",
    "                  './separated/htdemucs_6s/moon_track/piano.wav']\n",
    "output_file = './data/moon_track_minus_components_v1.wav'\n",
    "\n",
    "audio_manipulation(original_file, subtract_files, output_file)"
   ]
  },
  {
   "cell_type": "markdown",
   "id": "f513e197-1a2c-4286-aa1e-49e925acdf86",
   "metadata": {},
   "source": [
    "### Separate part files"
   ]
  },
  {
   "cell_type": "code",
   "execution_count": 17,
   "id": "353505ee-0d1c-47d6-83b2-48725f57bf8c",
   "metadata": {},
   "outputs": [
    {
     "name": "stdout",
     "output_type": "stream",
     "text": [
      "Processed audio saved as ./data/moon_track_minus_piano_v2.wav\n"
     ]
    }
   ],
   "source": [
    "import torch\n",
    "import torchaudio\n",
    "\n",
    "# Define file paths\n",
    "original_file = './data/moon_track.mp3'\n",
    "piano_file = './separated/htdemucs_6s/moon_track/piano.wav'\n",
    "output_file = './data/moon_track_minus_piano_v2.wav'\n",
    "\n",
    "# Load the original and piano tracks\n",
    "original_audio, orig_sr = torchaudio.load(original_file)\n",
    "piano_audio, piano_sr = torchaudio.load(piano_file)\n",
    "\n",
    "# Resample if sample rates are different\n",
    "if orig_sr != piano_sr:\n",
    "    resampler = torchaudio.transforms.Resample(orig_sr, piano_sr)\n",
    "    original_audio = resampler(original_audio)\n",
    "\n",
    "# Making sure both tracks are of the same length\n",
    "min_length = min(original_audio.shape[1], piano_audio.shape[1])\n",
    "original_audio = original_audio[:, :min_length]\n",
    "piano_audio = piano_audio[:, :min_length]\n",
    "\n",
    "# Subtract the piano from the original track\n",
    "result_audio = original_audio - piano_audio\n",
    "\n",
    "# Save the resulting audio\n",
    "torchaudio.save(output_file, result_audio, orig_sr)\n",
    "\n",
    "print(f\"Processed audio saved as {output_file}\")\n"
   ]
  },
  {
   "cell_type": "code",
   "execution_count": null,
   "id": "295cd107-ab02-459d-b1fd-1a45f7454165",
   "metadata": {},
   "outputs": [],
   "source": []
  }
 ],
 "metadata": {
  "kernelspec": {
   "display_name": "Python 3.9 (demucs)",
   "language": "python",
   "name": "demucs"
  },
  "language_info": {
   "codemirror_mode": {
    "name": "ipython",
    "version": 3
   },
   "file_extension": ".py",
   "mimetype": "text/x-python",
   "name": "python",
   "nbconvert_exporter": "python",
   "pygments_lexer": "ipython3",
   "version": "3.9.7"
  }
 },
 "nbformat": 4,
 "nbformat_minor": 5
}
